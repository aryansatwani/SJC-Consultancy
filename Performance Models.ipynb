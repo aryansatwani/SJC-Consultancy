{
 "cells": [
  {
   "cell_type": "code",
   "execution_count": 2,
   "id": "29733631",
   "metadata": {},
   "outputs": [],
   "source": [
    "import pandas as pd"
   ]
  },
  {
   "cell_type": "code",
   "execution_count": 46,
   "id": "5b8b778c",
   "metadata": {},
   "outputs": [],
   "source": [
    "df_def = pd.read_csv(\"./Combined Data/Defenders_data_2023-24.csv\")\n",
    "df_att = pd.read_csv(\"./Combined Data/Attackers_data_2023-24.csv\")"
   ]
  },
  {
   "cell_type": "code",
   "execution_count": 7,
   "id": "a3c9c284",
   "metadata": {},
   "outputs": [
    {
     "data": {
      "text/plain": [
       "Index(['Player', 'Nation', 'Pos', 'Squad', 'Age', 'Born', '90s', 'Tkl', 'TklW',\n",
       "       'Def_3rd', 'Mid_3rd', 'Att_3rd', 'Tkl.1', 'Att', 'Tkl%', 'Lost',\n",
       "       'Blocks', 'Sh', 'Pass', 'Int', 'Tkl+Int', 'Clr', 'Err'],\n",
       "      dtype='object')"
      ]
     },
     "execution_count": 7,
     "metadata": {},
     "output_type": "execute_result"
    }
   ],
   "source": [
    "df.columns"
   ]
  },
  {
   "cell_type": "code",
   "execution_count": 13,
   "id": "051401c8",
   "metadata": {},
   "outputs": [],
   "source": [
    "df_def = df_def[df_def['Pos']==\"DF\"]"
   ]
  },
  {
   "cell_type": "code",
   "execution_count": 14,
   "id": "894cef5a",
   "metadata": {},
   "outputs": [],
   "source": [
    "df_att = df_att[df_att['Pos']==\"DF\"]"
   ]
  },
  {
   "cell_type": "code",
   "execution_count": 30,
   "id": "ec5ba4a2",
   "metadata": {},
   "outputs": [],
   "source": [
    "df = pd.concat([df_att,df_def],axis=1,names=['Player','Nation','Age','Born','MP','Starts','Min','90s'])"
   ]
  },
  {
   "cell_type": "code",
   "execution_count": 33,
   "id": "5eff48f4",
   "metadata": {},
   "outputs": [
    {
     "data": {
      "text/plain": [
       "Index(['Player', 'Nation', 'Pos', 'Squad', 'Age', 'Born', 'MP', 'Starts',\n",
       "       'Min', '90s', 'Gls/90', 'Ast/90', 'G+A/90', 'G-PK/90', 'G+A-PK/90',\n",
       "       'xG/90', 'xAG/90', 'xG+xAG/90', 'npxG/90', 'npxG+xAG/90', 'CrdR/90',\n",
       "       'CrdY/90', 'PrgR/90', 'PrgC/90', 'PrgP/90', 'Player', 'Nation', 'Pos',\n",
       "       'Squad', 'Age', 'Born', '90s', 'Tkl', 'TklW', 'Def_3rd', 'Mid_3rd',\n",
       "       'Att_3rd', 'Tkl.1', 'Att', 'Tkl%', 'Lost', 'Blocks', 'Sh', 'Pass',\n",
       "       'Int', 'Tkl+Int', 'Clr', 'Err'],\n",
       "      dtype='object')"
      ]
     },
     "execution_count": 33,
     "metadata": {},
     "output_type": "execute_result"
    }
   ],
   "source": [
    "df.columns"
   ]
  },
  {
   "cell_type": "code",
   "execution_count": 23,
   "id": "ef95e105",
   "metadata": {},
   "outputs": [
    {
     "data": {
      "text/plain": [
       "Index(['Player', 'Nation', 'Pos', 'Squad', 'Age', 'Born', '90s', 'Tkl', 'TklW',\n",
       "       'Def_3rd', 'Mid_3rd', 'Att_3rd', 'Tkl.1', 'Att', 'Tkl%', 'Lost',\n",
       "       'Blocks', 'Sh', 'Pass', 'Int', 'Tkl+Int', 'Clr', 'Err'],\n",
       "      dtype='object')"
      ]
     },
     "execution_count": 23,
     "metadata": {},
     "output_type": "execute_result"
    }
   ],
   "source": [
    "df.drop(['Pos', 'Squad','Def_3rd', 'Mid_3rd',\n",
    "       'Att_3rd',])"
   ]
  },
  {
   "cell_type": "markdown",
   "id": "6408ab7b",
   "metadata": {},
   "source": [
    "# Attacker"
   ]
  },
  {
   "cell_type": "code",
   "execution_count": 5,
   "id": "acf71346",
   "metadata": {},
   "outputs": [],
   "source": [
    "df_att = pd.read_csv(\"./Combined Data/Attackers_data_2023-24.csv\")"
   ]
  },
  {
   "cell_type": "code",
   "execution_count": 6,
   "id": "85c1860d",
   "metadata": {},
   "outputs": [],
   "source": [
    "df_att = df_att[df_att['Pos']==\"FW\"]\n",
    "df_att = df_att[df_att['Min']>=1500]"
   ]
  },
  {
   "cell_type": "code",
   "execution_count": 7,
   "id": "d2cc6729",
   "metadata": {},
   "outputs": [
    {
     "data": {
      "text/plain": [
       "Index(['Player', 'Nation', 'Pos', 'Squad', 'Age', 'Born', 'MP', 'Starts',\n",
       "       'Min', '90s', 'Gls/90', 'Ast/90', 'G+A/90', 'G-PK/90', 'G+A-PK/90',\n",
       "       'xG/90', 'xAG/90', 'xG+xAG/90', 'npxG/90', 'npxG+xAG/90', 'CrdR/90',\n",
       "       'CrdY/90', 'PrgR/90', 'PrgC/90', 'PrgP/90'],\n",
       "      dtype='object')"
      ]
     },
     "execution_count": 7,
     "metadata": {},
     "output_type": "execute_result"
    }
   ],
   "source": [
    "df_att.columns"
   ]
  },
  {
   "cell_type": "code",
   "execution_count": 85,
   "id": "ba55c881",
   "metadata": {},
   "outputs": [
    {
     "name": "stdout",
     "output_type": "stream",
     "text": [
      "<class 'pandas.core.frame.DataFrame'>\n",
      "Index: 150 entries, 5 to 2183\n",
      "Data columns (total 26 columns):\n",
      " #   Column              Non-Null Count  Dtype  \n",
      "---  ------              --------------  -----  \n",
      " 0   Player              150 non-null    object \n",
      " 1   Nation              150 non-null    object \n",
      " 2   Pos                 150 non-null    object \n",
      " 3   Squad               150 non-null    object \n",
      " 4   Age                 150 non-null    float64\n",
      " 5   Born                150 non-null    float64\n",
      " 6   MP                  150 non-null    int64  \n",
      " 7   Starts              150 non-null    int64  \n",
      " 8   Min                 150 non-null    int64  \n",
      " 9   90s                 150 non-null    float64\n",
      " 10  Gls/90              150 non-null    float64\n",
      " 11  Ast/90              150 non-null    float64\n",
      " 12  G+A/90              150 non-null    float64\n",
      " 13  G-PK/90             150 non-null    float64\n",
      " 14  G+A-PK/90           150 non-null    float64\n",
      " 15  xG/90               150 non-null    float64\n",
      " 16  xAG/90              150 non-null    float64\n",
      " 17  xG+xAG/90           150 non-null    float64\n",
      " 18  npxG/90             150 non-null    float64\n",
      " 19  npxG+xAG/90         150 non-null    float64\n",
      " 20  CrdR/90             150 non-null    float64\n",
      " 21  CrdY/90             150 non-null    float64\n",
      " 22  PrgR/90             150 non-null    float64\n",
      " 23  PrgC/90             150 non-null    float64\n",
      " 24  PrgP/90             150 non-null    float64\n",
      " 25  Performance_rating  150 non-null    float64\n",
      "dtypes: float64(19), int64(3), object(4)\n",
      "memory usage: 31.6+ KB\n"
     ]
    }
   ],
   "source": [
    "df_att.info()"
   ]
  },
  {
   "cell_type": "code",
   "execution_count": 8,
   "id": "d3bf87d6",
   "metadata": {},
   "outputs": [],
   "source": [
    "def att_performance(row):\n",
    "    if row['90s']!=0:\n",
    "        result = (row['Gls/90'] * 4) + (row['Ast/90'] * 3) + (row['CrdR/90'] * -3) + (row['CrdY/90'] * -1)\n",
    "        return round(result, 2)"
   ]
  },
  {
   "cell_type": "code",
   "execution_count": 9,
   "id": "5e70b7f0",
   "metadata": {},
   "outputs": [],
   "source": [
    "df_att.drop(['Pos','Squad','Born','Min'],axis=1,inplace=True)"
   ]
  },
  {
   "cell_type": "code",
   "execution_count": 10,
   "id": "2e7b5e37",
   "metadata": {},
   "outputs": [],
   "source": [
    "df_att['Performance_rating'] = df_att.apply(att_performance,axis=1)"
   ]
  },
  {
   "cell_type": "code",
   "execution_count": 11,
   "id": "cda1425c",
   "metadata": {},
   "outputs": [],
   "source": [
    "df_att.to_csv('./Performance Rating/Attackers_data.csv',index=False)"
   ]
  },
  {
   "cell_type": "markdown",
   "id": "3c911ce0",
   "metadata": {},
   "source": [
    "## Midfielders"
   ]
  },
  {
   "cell_type": "code",
   "execution_count": 12,
   "id": "fb386d99",
   "metadata": {},
   "outputs": [],
   "source": [
    "import pandas as pd\n",
    "df_def = pd.read_csv(\"./Combined Data/Defenders_data_2023-24.csv\")\n",
    "df_att = pd.read_csv(\"./Combined Data/Attackers_data_2023-24.csv\")"
   ]
  },
  {
   "cell_type": "code",
   "execution_count": 13,
   "id": "8b60f936",
   "metadata": {},
   "outputs": [],
   "source": [
    "df_att = df_att[df_att['Pos']==\"MF\"]\n",
    "df_def = df_def[df_def['Pos']==\"MF\"]"
   ]
  },
  {
   "cell_type": "code",
   "execution_count": 14,
   "id": "9dc45087",
   "metadata": {},
   "outputs": [
    {
     "data": {
      "text/plain": [
       "Index(['Player', 'Nation', 'Pos', 'Squad', 'Age', 'Born', 'MP', 'Starts',\n",
       "       'Min', '90s', 'Gls/90', 'Ast/90', 'G+A/90', 'G-PK/90', 'G+A-PK/90',\n",
       "       'xG/90', 'xAG/90', 'xG+xAG/90', 'npxG/90', 'npxG+xAG/90', 'CrdR/90',\n",
       "       'CrdY/90', 'PrgR/90', 'PrgC/90', 'PrgP/90'],\n",
       "      dtype='object')"
      ]
     },
     "execution_count": 14,
     "metadata": {},
     "output_type": "execute_result"
    }
   ],
   "source": [
    "df_att.columns"
   ]
  },
  {
   "cell_type": "code",
   "execution_count": 7,
   "id": "9cef4598",
   "metadata": {},
   "outputs": [
    {
     "data": {
      "text/plain": [
       "Index(['Player', 'Nation', 'Pos', 'Squad', 'Age', 'Born', '90s', 'Tkl', 'TklW',\n",
       "       'Def_3rd', 'Mid_3rd', 'Att_3rd', 'Tkl.1', 'Att', 'Tkl%', 'Lost',\n",
       "       'Blocks', 'Sh', 'Pass', 'Int', 'Tkl+Int', 'Clr', 'Err'],\n",
       "      dtype='object')"
      ]
     },
     "execution_count": 7,
     "metadata": {},
     "output_type": "execute_result"
    }
   ],
   "source": [
    "df_def.columns"
   ]
  },
  {
   "cell_type": "code",
   "execution_count": 15,
   "id": "9b47164e",
   "metadata": {},
   "outputs": [],
   "source": [
    "df = pd.merge(df_att,df_def,on=['Player','Nation','Age','Born','90s'])"
   ]
  },
  {
   "cell_type": "code",
   "execution_count": 16,
   "id": "1cbdf0c7",
   "metadata": {},
   "outputs": [],
   "source": [
    "df.drop(['Def_3rd', 'Mid_3rd', 'Att_3rd','Blocks', 'Sh', 'Pass','Tkl+Int', 'Clr', 'Err'],axis=1,inplace=True)"
   ]
  },
  {
   "cell_type": "code",
   "execution_count": 30,
   "id": "29b71683",
   "metadata": {},
   "outputs": [
    {
     "data": {
      "text/html": [
       "<div>\n",
       "<style scoped>\n",
       "    .dataframe tbody tr th:only-of-type {\n",
       "        vertical-align: middle;\n",
       "    }\n",
       "\n",
       "    .dataframe tbody tr th {\n",
       "        vertical-align: top;\n",
       "    }\n",
       "\n",
       "    .dataframe thead th {\n",
       "        text-align: right;\n",
       "    }\n",
       "</style>\n",
       "<table border=\"1\" class=\"dataframe\">\n",
       "  <thead>\n",
       "    <tr style=\"text-align: right;\">\n",
       "      <th></th>\n",
       "      <th>Player</th>\n",
       "      <th>Nation</th>\n",
       "      <th>Pos_x</th>\n",
       "      <th>Squad_x</th>\n",
       "      <th>Age</th>\n",
       "      <th>Born</th>\n",
       "      <th>MP</th>\n",
       "      <th>Starts</th>\n",
       "      <th>Min</th>\n",
       "      <th>90s</th>\n",
       "      <th>...</th>\n",
       "      <th>PrgP/90</th>\n",
       "      <th>Pos_y</th>\n",
       "      <th>Squad_y</th>\n",
       "      <th>Tkl</th>\n",
       "      <th>TklW</th>\n",
       "      <th>Tkl.1</th>\n",
       "      <th>Att</th>\n",
       "      <th>Tkl%</th>\n",
       "      <th>Lost</th>\n",
       "      <th>Int</th>\n",
       "    </tr>\n",
       "  </thead>\n",
       "  <tbody>\n",
       "    <tr>\n",
       "      <th>0</th>\n",
       "      <td>Tyler Adams</td>\n",
       "      <td>USA</td>\n",
       "      <td>MF</td>\n",
       "      <td>Bournemouth</td>\n",
       "      <td>25.0</td>\n",
       "      <td>1999.0</td>\n",
       "      <td>2</td>\n",
       "      <td>1</td>\n",
       "      <td>110</td>\n",
       "      <td>1.2</td>\n",
       "      <td>...</td>\n",
       "      <td>3.33</td>\n",
       "      <td>MF</td>\n",
       "      <td>Bournemouth</td>\n",
       "      <td>3.33</td>\n",
       "      <td>2.50</td>\n",
       "      <td>1.67</td>\n",
       "      <td>2.50</td>\n",
       "      <td>66.7</td>\n",
       "      <td>0.83</td>\n",
       "      <td>3.33</td>\n",
       "    </tr>\n",
       "    <tr>\n",
       "      <th>1</th>\n",
       "      <td>Naouirou Ahamada</td>\n",
       "      <td>FRA</td>\n",
       "      <td>MF</td>\n",
       "      <td>Crystal Palace</td>\n",
       "      <td>22.0</td>\n",
       "      <td>2002.0</td>\n",
       "      <td>19</td>\n",
       "      <td>0</td>\n",
       "      <td>279</td>\n",
       "      <td>3.1</td>\n",
       "      <td>...</td>\n",
       "      <td>5.81</td>\n",
       "      <td>MF</td>\n",
       "      <td>Crystal Palace</td>\n",
       "      <td>3.23</td>\n",
       "      <td>2.26</td>\n",
       "      <td>1.94</td>\n",
       "      <td>4.52</td>\n",
       "      <td>42.9</td>\n",
       "      <td>2.58</td>\n",
       "      <td>0.32</td>\n",
       "    </tr>\n",
       "    <tr>\n",
       "      <th>2</th>\n",
       "      <td>Thiago Alcántara</td>\n",
       "      <td>ESP</td>\n",
       "      <td>MF</td>\n",
       "      <td>Liverpool</td>\n",
       "      <td>33.0</td>\n",
       "      <td>1991.0</td>\n",
       "      <td>1</td>\n",
       "      <td>0</td>\n",
       "      <td>6</td>\n",
       "      <td>0.1</td>\n",
       "      <td>...</td>\n",
       "      <td>0.00</td>\n",
       "      <td>MF</td>\n",
       "      <td>Liverpool</td>\n",
       "      <td>0.00</td>\n",
       "      <td>0.00</td>\n",
       "      <td>0.00</td>\n",
       "      <td>0.00</td>\n",
       "      <td>NaN</td>\n",
       "      <td>0.00</td>\n",
       "      <td>0.00</td>\n",
       "    </tr>\n",
       "    <tr>\n",
       "      <th>3</th>\n",
       "      <td>Edson Álvarez</td>\n",
       "      <td>MEX</td>\n",
       "      <td>MF</td>\n",
       "      <td>West Ham</td>\n",
       "      <td>26.0</td>\n",
       "      <td>1997.0</td>\n",
       "      <td>29</td>\n",
       "      <td>27</td>\n",
       "      <td>2312</td>\n",
       "      <td>25.7</td>\n",
       "      <td>...</td>\n",
       "      <td>3.46</td>\n",
       "      <td>MF</td>\n",
       "      <td>West Ham</td>\n",
       "      <td>3.07</td>\n",
       "      <td>1.52</td>\n",
       "      <td>1.21</td>\n",
       "      <td>2.45</td>\n",
       "      <td>49.2</td>\n",
       "      <td>1.25</td>\n",
       "      <td>1.63</td>\n",
       "    </tr>\n",
       "    <tr>\n",
       "      <th>4</th>\n",
       "      <td>Julián Álvarez</td>\n",
       "      <td>ARG</td>\n",
       "      <td>MF</td>\n",
       "      <td>Manchester City</td>\n",
       "      <td>24.0</td>\n",
       "      <td>2000.0</td>\n",
       "      <td>33</td>\n",
       "      <td>31</td>\n",
       "      <td>2628</td>\n",
       "      <td>29.2</td>\n",
       "      <td>...</td>\n",
       "      <td>3.53</td>\n",
       "      <td>MF</td>\n",
       "      <td>Manchester City</td>\n",
       "      <td>0.82</td>\n",
       "      <td>0.45</td>\n",
       "      <td>0.27</td>\n",
       "      <td>1.06</td>\n",
       "      <td>25.8</td>\n",
       "      <td>0.79</td>\n",
       "      <td>0.07</td>\n",
       "    </tr>\n",
       "  </tbody>\n",
       "</table>\n",
       "<p>5 rows × 34 columns</p>\n",
       "</div>"
      ],
      "text/plain": [
       "             Player Nation Pos_x          Squad_x   Age    Born  MP  Starts  \\\n",
       "0       Tyler Adams    USA    MF      Bournemouth  25.0  1999.0   2       1   \n",
       "1  Naouirou Ahamada    FRA    MF   Crystal Palace  22.0  2002.0  19       0   \n",
       "2  Thiago Alcántara    ESP    MF        Liverpool  33.0  1991.0   1       0   \n",
       "3     Edson Álvarez    MEX    MF         West Ham  26.0  1997.0  29      27   \n",
       "4    Julián Álvarez    ARG    MF  Manchester City  24.0  2000.0  33      31   \n",
       "\n",
       "    Min   90s  ...  PrgP/90  Pos_y          Squad_y   Tkl  TklW  Tkl.1   Att  \\\n",
       "0   110   1.2  ...     3.33     MF      Bournemouth  3.33  2.50   1.67  2.50   \n",
       "1   279   3.1  ...     5.81     MF   Crystal Palace  3.23  2.26   1.94  4.52   \n",
       "2     6   0.1  ...     0.00     MF        Liverpool  0.00  0.00   0.00  0.00   \n",
       "3  2312  25.7  ...     3.46     MF         West Ham  3.07  1.52   1.21  2.45   \n",
       "4  2628  29.2  ...     3.53     MF  Manchester City  0.82  0.45   0.27  1.06   \n",
       "\n",
       "   Tkl%  Lost   Int  \n",
       "0  66.7  0.83  3.33  \n",
       "1  42.9  2.58  0.32  \n",
       "2   NaN  0.00  0.00  \n",
       "3  49.2  1.25  1.63  \n",
       "4  25.8  0.79  0.07  \n",
       "\n",
       "[5 rows x 34 columns]"
      ]
     },
     "execution_count": 30,
     "metadata": {},
     "output_type": "execute_result"
    }
   ],
   "source": [
    "df.head()"
   ]
  },
  {
   "cell_type": "code",
   "execution_count": 31,
   "id": "4ca021cb",
   "metadata": {
    "scrolled": true
   },
   "outputs": [],
   "source": [
    "df = df[df['Min']>1500]"
   ]
  },
  {
   "cell_type": "code",
   "execution_count": 32,
   "id": "82009d83",
   "metadata": {},
   "outputs": [],
   "source": [
    "# As a midfielder moving the ball up is important hence value for progressive carries and passes.df_att['Performance_rating'] = df_att.apply(att_performance,axis=1)\n",
    "def mid_performance(row):\n",
    "    if row['90s']!=0:\n",
    "        result = (row['Gls/90'] * 5) + (row['Ast/90'] * 3) + (row['CrdR/90'] * -3) + (row['CrdY/90'] * -1) + (row['PrgP/90']*2) + (row['PrgC/90']*3) \n",
    "        return round(result, 2)"
   ]
  },
  {
   "cell_type": "code",
   "execution_count": 33,
   "id": "917ecdd2",
   "metadata": {},
   "outputs": [],
   "source": [
    "df['Performance_rating'] = df.apply(mid_performance,axis=1)"
   ]
  },
  {
   "cell_type": "code",
   "execution_count": 34,
   "id": "f0baa5bd",
   "metadata": {
    "scrolled": true
   },
   "outputs": [
    {
     "data": {
      "text/html": [
       "<div>\n",
       "<style scoped>\n",
       "    .dataframe tbody tr th:only-of-type {\n",
       "        vertical-align: middle;\n",
       "    }\n",
       "\n",
       "    .dataframe tbody tr th {\n",
       "        vertical-align: top;\n",
       "    }\n",
       "\n",
       "    .dataframe thead th {\n",
       "        text-align: right;\n",
       "    }\n",
       "</style>\n",
       "<table border=\"1\" class=\"dataframe\">\n",
       "  <thead>\n",
       "    <tr style=\"text-align: right;\">\n",
       "      <th></th>\n",
       "      <th>Player</th>\n",
       "      <th>Nation</th>\n",
       "      <th>Pos_x</th>\n",
       "      <th>Squad_x</th>\n",
       "      <th>Age</th>\n",
       "      <th>Born</th>\n",
       "      <th>MP</th>\n",
       "      <th>Starts</th>\n",
       "      <th>Min</th>\n",
       "      <th>90s</th>\n",
       "      <th>...</th>\n",
       "      <th>Pos_y</th>\n",
       "      <th>Squad_y</th>\n",
       "      <th>Tkl</th>\n",
       "      <th>TklW</th>\n",
       "      <th>Tkl.1</th>\n",
       "      <th>Att</th>\n",
       "      <th>Tkl%</th>\n",
       "      <th>Lost</th>\n",
       "      <th>Int</th>\n",
       "      <th>Performance_rating</th>\n",
       "    </tr>\n",
       "  </thead>\n",
       "  <tbody>\n",
       "    <tr>\n",
       "      <th>3</th>\n",
       "      <td>Edson Álvarez</td>\n",
       "      <td>MEX</td>\n",
       "      <td>MF</td>\n",
       "      <td>West Ham</td>\n",
       "      <td>26.0</td>\n",
       "      <td>1997.0</td>\n",
       "      <td>29</td>\n",
       "      <td>27</td>\n",
       "      <td>2312</td>\n",
       "      <td>25.7</td>\n",
       "      <td>...</td>\n",
       "      <td>MF</td>\n",
       "      <td>West Ham</td>\n",
       "      <td>3.07</td>\n",
       "      <td>1.52</td>\n",
       "      <td>1.21</td>\n",
       "      <td>2.45</td>\n",
       "      <td>49.2</td>\n",
       "      <td>1.25</td>\n",
       "      <td>1.63</td>\n",
       "      <td>9.19</td>\n",
       "    </tr>\n",
       "    <tr>\n",
       "      <th>4</th>\n",
       "      <td>Julián Álvarez</td>\n",
       "      <td>ARG</td>\n",
       "      <td>MF</td>\n",
       "      <td>Manchester City</td>\n",
       "      <td>24.0</td>\n",
       "      <td>2000.0</td>\n",
       "      <td>33</td>\n",
       "      <td>31</td>\n",
       "      <td>2628</td>\n",
       "      <td>29.2</td>\n",
       "      <td>...</td>\n",
       "      <td>MF</td>\n",
       "      <td>Manchester City</td>\n",
       "      <td>0.82</td>\n",
       "      <td>0.45</td>\n",
       "      <td>0.27</td>\n",
       "      <td>1.06</td>\n",
       "      <td>25.8</td>\n",
       "      <td>0.79</td>\n",
       "      <td>0.07</td>\n",
       "      <td>15.83</td>\n",
       "    </tr>\n",
       "    <tr>\n",
       "      <th>9</th>\n",
       "      <td>Leon Bailey</td>\n",
       "      <td>JAM</td>\n",
       "      <td>MF</td>\n",
       "      <td>Aston Villa</td>\n",
       "      <td>26.0</td>\n",
       "      <td>1997.0</td>\n",
       "      <td>33</td>\n",
       "      <td>20</td>\n",
       "      <td>1888</td>\n",
       "      <td>21.0</td>\n",
       "      <td>...</td>\n",
       "      <td>MF</td>\n",
       "      <td>Aston Villa</td>\n",
       "      <td>0.48</td>\n",
       "      <td>0.24</td>\n",
       "      <td>0.19</td>\n",
       "      <td>0.81</td>\n",
       "      <td>23.5</td>\n",
       "      <td>0.62</td>\n",
       "      <td>0.38</td>\n",
       "      <td>24.87</td>\n",
       "    </tr>\n",
       "    <tr>\n",
       "      <th>12</th>\n",
       "      <td>Ross Barkley</td>\n",
       "      <td>ENG</td>\n",
       "      <td>MF</td>\n",
       "      <td>Luton Town</td>\n",
       "      <td>30.0</td>\n",
       "      <td>1993.0</td>\n",
       "      <td>30</td>\n",
       "      <td>28</td>\n",
       "      <td>2490</td>\n",
       "      <td>27.7</td>\n",
       "      <td>...</td>\n",
       "      <td>MF</td>\n",
       "      <td>Luton Town</td>\n",
       "      <td>1.70</td>\n",
       "      <td>0.69</td>\n",
       "      <td>0.40</td>\n",
       "      <td>1.73</td>\n",
       "      <td>22.9</td>\n",
       "      <td>1.34</td>\n",
       "      <td>0.90</td>\n",
       "      <td>16.84</td>\n",
       "    </tr>\n",
       "    <tr>\n",
       "      <th>16</th>\n",
       "      <td>Sander Berge</td>\n",
       "      <td>NOR</td>\n",
       "      <td>MF</td>\n",
       "      <td>Burnley</td>\n",
       "      <td>26.0</td>\n",
       "      <td>1998.0</td>\n",
       "      <td>34</td>\n",
       "      <td>31</td>\n",
       "      <td>2735</td>\n",
       "      <td>30.4</td>\n",
       "      <td>...</td>\n",
       "      <td>MF</td>\n",
       "      <td>Burnley</td>\n",
       "      <td>2.37</td>\n",
       "      <td>1.41</td>\n",
       "      <td>1.05</td>\n",
       "      <td>1.81</td>\n",
       "      <td>58.2</td>\n",
       "      <td>0.76</td>\n",
       "      <td>0.76</td>\n",
       "      <td>14.77</td>\n",
       "    </tr>\n",
       "  </tbody>\n",
       "</table>\n",
       "<p>5 rows × 35 columns</p>\n",
       "</div>"
      ],
      "text/plain": [
       "            Player Nation Pos_x          Squad_x   Age    Born  MP  Starts  \\\n",
       "3    Edson Álvarez    MEX    MF         West Ham  26.0  1997.0  29      27   \n",
       "4   Julián Álvarez    ARG    MF  Manchester City  24.0  2000.0  33      31   \n",
       "9      Leon Bailey    JAM    MF      Aston Villa  26.0  1997.0  33      20   \n",
       "12    Ross Barkley    ENG    MF       Luton Town  30.0  1993.0  30      28   \n",
       "16    Sander Berge    NOR    MF          Burnley  26.0  1998.0  34      31   \n",
       "\n",
       "     Min   90s  ...  Pos_y          Squad_y   Tkl  TklW  Tkl.1   Att  Tkl%  \\\n",
       "3   2312  25.7  ...     MF         West Ham  3.07  1.52   1.21  2.45  49.2   \n",
       "4   2628  29.2  ...     MF  Manchester City  0.82  0.45   0.27  1.06  25.8   \n",
       "9   1888  21.0  ...     MF      Aston Villa  0.48  0.24   0.19  0.81  23.5   \n",
       "12  2490  27.7  ...     MF       Luton Town  1.70  0.69   0.40  1.73  22.9   \n",
       "16  2735  30.4  ...     MF          Burnley  2.37  1.41   1.05  1.81  58.2   \n",
       "\n",
       "    Lost   Int  Performance_rating  \n",
       "3   1.25  1.63                9.19  \n",
       "4   0.79  0.07               15.83  \n",
       "9   0.62  0.38               24.87  \n",
       "12  1.34  0.90               16.84  \n",
       "16  0.76  0.76               14.77  \n",
       "\n",
       "[5 rows x 35 columns]"
      ]
     },
     "execution_count": 34,
     "metadata": {},
     "output_type": "execute_result"
    }
   ],
   "source": [
    "df.head()"
   ]
  },
  {
   "cell_type": "code",
   "execution_count": 37,
   "id": "aad85035",
   "metadata": {},
   "outputs": [],
   "source": [
    "df.to_csv('./Performance Rating/Midfielders_data.csv',index=False)"
   ]
  },
  {
   "cell_type": "markdown",
   "id": "e697ee32",
   "metadata": {},
   "source": [
    "## Defender Data"
   ]
  },
  {
   "cell_type": "code",
   "execution_count": 55,
   "id": "082fffe0",
   "metadata": {},
   "outputs": [],
   "source": [
    "import pandas as pd\n",
    "df_def = pd.read_csv(\"./Combined Data/Defenders_data_2023-24.csv\")\n",
    "df_att = pd.read_csv(\"./Combined Data/Attackers_data_2023-24.csv\")"
   ]
  },
  {
   "cell_type": "code",
   "execution_count": 56,
   "id": "52ad5849",
   "metadata": {},
   "outputs": [],
   "source": [
    "df_att = df_att[df_att['Pos']==\"DF\"]\n",
    "df_def = df_def[df_def['Pos']==\"DF\"]"
   ]
  },
  {
   "cell_type": "code",
   "execution_count": 57,
   "id": "93774150",
   "metadata": {},
   "outputs": [],
   "source": [
    "df = pd.merge(df_att,df_def,on=['Player','Nation','Age','Born','90s'])"
   ]
  },
  {
   "cell_type": "code",
   "execution_count": 58,
   "id": "00c4493b",
   "metadata": {},
   "outputs": [],
   "source": [
    "df.drop(['Def_3rd', 'Mid_3rd', 'Att_3rd','G+A/90', 'G-PK/90', 'G+A-PK/90',\n",
    "       'xG/90', 'xAG/90', 'xG+xAG/90', 'npxG/90', 'npxG+xAG/90','PrgR/90', 'PrgC/90', 'PrgP/90'],axis=1,inplace=True)"
   ]
  },
  {
   "cell_type": "code",
   "execution_count": 59,
   "id": "ef68a5f1",
   "metadata": {},
   "outputs": [],
   "source": [
    "df = df[df['Min']>1500]"
   ]
  },
  {
   "cell_type": "code",
   "execution_count": 60,
   "id": "cf6008a2",
   "metadata": {},
   "outputs": [
    {
     "data": {
      "text/plain": [
       "Index(['Player', 'Nation', 'Pos_x', 'Squad_x', 'Age', 'Born', 'MP', 'Starts',\n",
       "       'Min', '90s', 'Gls/90', 'Ast/90', 'CrdR/90', 'CrdY/90', 'Pos_y',\n",
       "       'Squad_y', 'Tkl', 'TklW', 'Tkl.1', 'Att', 'Tkl%', 'Lost', 'Blocks',\n",
       "       'Sh', 'Pass', 'Int', 'Tkl+Int', 'Clr', 'Err'],\n",
       "      dtype='object')"
      ]
     },
     "execution_count": 60,
     "metadata": {},
     "output_type": "execute_result"
    }
   ],
   "source": [
    "df.columns"
   ]
  },
  {
   "cell_type": "code",
   "execution_count": 61,
   "id": "00c3c39e",
   "metadata": {},
   "outputs": [],
   "source": [
    "# As a Defender tackling intercepting and blocks plays a crucial role and errors leading to goalsdf.to_csv('./Performance Rating/Midfielders_data.csv',index=False)\n",
    "def def_performance(row):\n",
    "    if row['90s']!=0:\n",
    "        result = (row['Gls/90'] * 6) + (row['Ast/90'] * 3) + (row['CrdR/90'] * -3) + (row['CrdY/90'] * -1) + (row['TklW'] * 3) + (row['Int']*3) + (row['Clr'] * 2) + (row['Err'] * -2) \n",
    "        return round(result, 2)"
   ]
  },
  {
   "cell_type": "code",
   "execution_count": 62,
   "id": "397cccd8",
   "metadata": {},
   "outputs": [],
   "source": [
    "df['Performance_rating'] = df.apply(def_performance,axis=1)"
   ]
  },
  {
   "cell_type": "code",
   "execution_count": 63,
   "id": "cc472365",
   "metadata": {},
   "outputs": [],
   "source": [
    "df.to_csv('./Performance Rating/Defenders_data.csv',index=False)"
   ]
  },
  {
   "cell_type": "markdown",
   "id": "43fdcd09",
   "metadata": {},
   "source": [
    "## Goal keepers data"
   ]
  },
  {
   "cell_type": "code",
   "execution_count": 9,
   "id": "8e9c4195",
   "metadata": {},
   "outputs": [],
   "source": [
    "df_goal = pd.read_csv(\"./Combined Data/Goalkeepers_data_2023-24.csv\")\n",
    "df_att = pd.read_csv(\"./Combined Data/Attackers_data_2023-24.csv\")"
   ]
  },
  {
   "cell_type": "code",
   "execution_count": 10,
   "id": "8f7be13f",
   "metadata": {},
   "outputs": [],
   "source": [
    "df_att = df_att[df_att['Pos']==\"GK\"]"
   ]
  },
  {
   "cell_type": "code",
   "execution_count": 11,
   "id": "6e2f2419",
   "metadata": {},
   "outputs": [],
   "source": [
    "df = pd.merge(df_att,df_goal,on=['Player','Nation','Age','Born','90s'])"
   ]
  },
  {
   "cell_type": "code",
   "execution_count": 13,
   "id": "eae71870",
   "metadata": {},
   "outputs": [
    {
     "data": {
      "text/plain": [
       "Index(['Player', 'Nation', 'Pos_x', 'Squad_x', 'Age', 'Born', 'MP_x',\n",
       "       'Starts_x', 'Min_x', '90s', 'Gls/90', 'Ast/90', 'G+A/90', 'G-PK/90',\n",
       "       'G+A-PK/90', 'xG/90', 'xAG/90', 'xG+xAG/90', 'npxG/90', 'npxG+xAG/90',\n",
       "       'CrdR/90', 'CrdY/90', 'PrgR/90', 'PrgC/90', 'PrgP/90', 'Pos_y',\n",
       "       'Squad_y', 'MP_y', 'Starts_y', 'Min_y', 'GA', 'GA90', 'SoTA', 'Saves',\n",
       "       'Save%', 'W', 'D', 'L', 'CS', 'CS%', 'PKatt', 'PKA', 'PKsv', 'PKm',\n",
       "       'PSave%'],\n",
       "      dtype='object')"
      ]
     },
     "execution_count": 13,
     "metadata": {},
     "output_type": "execute_result"
    }
   ],
   "source": [
    "df.columns"
   ]
  },
  {
   "cell_type": "code",
   "execution_count": 15,
   "id": "1582f46e",
   "metadata": {},
   "outputs": [],
   "source": [
    "df.drop(['W','D','L','CS%','PKatt','PKA','G+A/90', 'G-PK/90', 'G+A-PK/90',\n",
    "       'xG/90', 'xAG/90', 'xG+xAG/90', 'npxG/90', 'npxG+xAG/90','PrgR/90', 'PrgC/90', 'PrgP/90'],axis=1,inplace=True)"
   ]
  },
  {
   "cell_type": "code",
   "execution_count": 16,
   "id": "c892e7b3",
   "metadata": {
    "scrolled": true
   },
   "outputs": [
    {
     "name": "stdout",
     "output_type": "stream",
     "text": [
      "<class 'pandas.core.frame.DataFrame'>\n",
      "RangeIndex: 130 entries, 0 to 129\n",
      "Data columns (total 28 columns):\n",
      " #   Column    Non-Null Count  Dtype  \n",
      "---  ------    --------------  -----  \n",
      " 0   Player    130 non-null    object \n",
      " 1   Nation    130 non-null    object \n",
      " 2   Pos_x     130 non-null    object \n",
      " 3   Squad_x   130 non-null    object \n",
      " 4   Age       130 non-null    float64\n",
      " 5   Born      130 non-null    float64\n",
      " 6   MP_x      130 non-null    int64  \n",
      " 7   Starts_x  130 non-null    int64  \n",
      " 8   Min_x     130 non-null    int64  \n",
      " 9   90s       130 non-null    float64\n",
      " 10  Gls/90    130 non-null    float64\n",
      " 11  Ast/90    130 non-null    float64\n",
      " 12  CrdR/90   129 non-null    float64\n",
      " 13  CrdY/90   129 non-null    float64\n",
      " 14  Pos_y     130 non-null    object \n",
      " 15  Squad_y   130 non-null    object \n",
      " 16  MP_y      130 non-null    int64  \n",
      " 17  Starts_y  130 non-null    int64  \n",
      " 18  Min_y     130 non-null    int64  \n",
      " 19  GA        130 non-null    float64\n",
      " 20  GA90      130 non-null    float64\n",
      " 21  SoTA      130 non-null    float64\n",
      " 22  Saves     130 non-null    float64\n",
      " 23  Save%     129 non-null    float64\n",
      " 24  CS        130 non-null    float64\n",
      " 25  PKsv      130 non-null    float64\n",
      " 26  PKm       130 non-null    float64\n",
      " 27  PSave%    87 non-null     float64\n",
      "dtypes: float64(16), int64(6), object(6)\n",
      "memory usage: 28.6+ KB\n"
     ]
    }
   ],
   "source": [
    "df.info()"
   ]
  },
  {
   "cell_type": "code",
   "execution_count": 18,
   "id": "c54cc712",
   "metadata": {},
   "outputs": [],
   "source": [
    "# As a goalkeeper keeping clean sheets and not conceeding goals is important as well savong penalties\n",
    "def goal_performance(row):\n",
    "    if row['90s']!=0:\n",
    "        result = (row['Gls/90'] * 6) + (row['PKsv'] * 3) + (row['CrdR/90'] * -3) + (row['CrdY/90'] * -1) + (row['CS'] * 4) + (row['GA']*0.5) \n",
    "        return round(result, 2)"
   ]
  },
  {
   "cell_type": "code",
   "execution_count": 20,
   "id": "f7d15da1",
   "metadata": {},
   "outputs": [],
   "source": [
    "df['Performance_rating'] = df.apply(goal_performance,axis=1)"
   ]
  },
  {
   "cell_type": "code",
   "execution_count": 21,
   "id": "4e42d9e2",
   "metadata": {},
   "outputs": [],
   "source": [
    "df.to_csv('./Performance Rating/Goalkeepers_data.csv',index=False)"
   ]
  }
 ],
 "metadata": {
  "kernelspec": {
   "display_name": "fdsenv",
   "language": "python",
   "name": "fdsenv"
  },
  "language_info": {
   "codemirror_mode": {
    "name": "ipython",
    "version": 3
   },
   "file_extension": ".py",
   "mimetype": "text/x-python",
   "name": "python",
   "nbconvert_exporter": "python",
   "pygments_lexer": "ipython3",
   "version": "3.10.9"
  }
 },
 "nbformat": 4,
 "nbformat_minor": 5
}
