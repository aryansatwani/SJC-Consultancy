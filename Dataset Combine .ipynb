{
 "cells": [
  {
   "cell_type": "markdown",
   "id": "c95d3724",
   "metadata": {},
   "source": [
    "## Attacker Data Combine"
   ]
  },
  {
   "cell_type": "code",
   "execution_count": 1,
   "id": "9a2d29ba",
   "metadata": {},
   "outputs": [],
   "source": [
    "import pandas as pd"
   ]
  },
  {
   "cell_type": "code",
   "execution_count": 3,
   "id": "4edded22",
   "metadata": {},
   "outputs": [],
   "source": [
    "df1 = pd.read_csv(\"./Attackers Data/PL_player_attacking_data_2023-24.csv\")\n",
    "df2 = pd.read_csv(\"./Attackers Data/Ligue1_player_attacking_data_2023-24.csv\")\n",
    "df3 = pd.read_csv(\"./Attackers Data/Bundesliga_player_attacking_data_2023-24.csv\")\n",
    "df4 = pd.read_csv(\"./Attackers Data/SerieA_player_attacking_data_2023-24.csv\")\n",
    "df5 = pd.read_csv(\"./Attackers Data/LaLiga_player_attacking_data_2023-24.csv\")"
   ]
  },
  {
   "cell_type": "code",
   "execution_count": 4,
   "id": "cb3a648d",
   "metadata": {},
   "outputs": [],
   "source": [
    "df = pd.concat([df1,df2,df3,df4,df5],ignore_index=True)"
   ]
  },
  {
   "cell_type": "code",
   "execution_count": 5,
   "id": "b5bf64ea",
   "metadata": {
    "scrolled": true
   },
   "outputs": [
    {
     "data": {
      "text/plain": [
       "Index(['Player', 'Nation', 'Pos', 'Squad', 'Age', 'Born', 'MP', 'Starts',\n",
       "       'Min', '90s', 'Gls', 'Ast', 'G+A', 'G-PK', 'PK', 'PKatt', 'CrdY',\n",
       "       'CrdR', 'xG', 'npxG', 'xAG', 'npxG+xAG', 'PrgC', 'PrgP', 'PrgR',\n",
       "       'Gls/90', 'Ast/90', 'G+A/90', 'G-PK/90', 'G+A-PK/90', 'xG/90', 'xAG/90',\n",
       "       'xG+xAG/90', 'npxG/90', 'npxG+xAG/90'],\n",
       "      dtype='object')"
      ]
     },
     "execution_count": 5,
     "metadata": {},
     "output_type": "execute_result"
    }
   ],
   "source": [
    "df.columns"
   ]
  },
  {
   "cell_type": "code",
   "execution_count": 6,
   "id": "e3109fab",
   "metadata": {},
   "outputs": [],
   "source": [
    "def divide_crdR_by_90(row):\n",
    "    if row['90s']!=0:\n",
    "        result = row['CrdR'] / row['90s']\n",
    "        return round(result, 2)\n",
    "def divide_crdY_by_90(row):\n",
    "    if row['90s']!=0:\n",
    "        result = row['CrdY'] / row['90s']\n",
    "        return round(result, 2)"
   ]
  },
  {
   "cell_type": "code",
   "execution_count": 7,
   "id": "a1255062",
   "metadata": {},
   "outputs": [],
   "source": [
    "# Calculating the Red and yellow cards per 90 mins\n",
    "df['CrdR/90'] = df.apply(divide_crdR_by_90, axis=1)\n",
    "df['CrdY/90'] = df.apply(divide_crdY_by_90, axis=1)"
   ]
  },
  {
   "cell_type": "code",
   "execution_count": 8,
   "id": "05d0e0c6",
   "metadata": {},
   "outputs": [],
   "source": [
    "# Calculateing the progressive passes carries, passes and recoveries\n",
    "def divide_prgR_by_90(row):\n",
    "    if row['90s']!=0:\n",
    "        result = row['PrgR'] / row['90s']\n",
    "        return round(result, 2)\n",
    "def divide_prgC_by_90(row):\n",
    "    if row['90s']!=0:\n",
    "        result = row['PrgC'] / row['90s']\n",
    "        return round(result, 2)\n",
    "def divide_prgP_by_90(row):\n",
    "    if row['90s']!=0:\n",
    "        result = row['PrgP'] / row['90s']\n",
    "        return round(result, 2)"
   ]
  },
  {
   "cell_type": "code",
   "execution_count": 9,
   "id": "c1fd8811",
   "metadata": {},
   "outputs": [],
   "source": [
    "df['PrgR/90'] = df.apply(divide_prgR_by_90, axis=1)\n",
    "df['PrgC/90'] = df.apply(divide_prgC_by_90, axis=1)\n",
    "df['PrgP/90'] = df.apply(divide_prgP_by_90, axis=1)"
   ]
  },
  {
   "cell_type": "code",
   "execution_count": 10,
   "id": "81cec9fc",
   "metadata": {},
   "outputs": [],
   "source": [
    "df.drop(['Gls', 'Ast', 'G+A', 'G-PK', 'PK', 'PKatt', 'CrdY',\n",
    "       'CrdR', 'xG', 'npxG', 'xAG', 'npxG+xAG', 'PrgC', 'PrgP', 'PrgR'],inplace=True,axis=1)"
   ]
  },
  {
   "cell_type": "code",
   "execution_count": 11,
   "id": "37e5cf96",
   "metadata": {
    "scrolled": true
   },
   "outputs": [],
   "source": [
    "df.to_csv(\"./Combined Data/Attackers_data_2023-24.csv\",index=False)"
   ]
  },
  {
   "cell_type": "markdown",
   "id": "99a48c56",
   "metadata": {},
   "source": [
    "## Defender Data"
   ]
  },
  {
   "cell_type": "code",
   "execution_count": 13,
   "id": "e6c94e77",
   "metadata": {},
   "outputs": [],
   "source": [
    "df1 = pd.read_csv(\"./Defenders Data/PL_player_defender_data_2023-24.csv\")\n",
    "df2 = pd.read_csv(\"./Defenders Data/Ligue1_player_defender_data_2023-24.csv\")\n",
    "df3 = pd.read_csv(\"./Defenders Data/Bundesliga_player_defender_data_2023-24.csv\")\n",
    "df4 = pd.read_csv(\"./Defenders Data/SerieA_player_defender_data_2023-24.csv\")\n",
    "df5 = pd.read_csv(\"./Defenders Data/LaLiga_player_defender_data_2023-24.csv\")"
   ]
  },
  {
   "cell_type": "code",
   "execution_count": 14,
   "id": "db369405",
   "metadata": {},
   "outputs": [],
   "source": [
    "df = pd.concat([df1,df2,df3,df4,df5],ignore_index=True)"
   ]
  },
  {
   "cell_type": "code",
   "execution_count": 15,
   "id": "ef41824a",
   "metadata": {
    "scrolled": true
   },
   "outputs": [
    {
     "name": "stdout",
     "output_type": "stream",
     "text": [
      "<class 'pandas.core.frame.DataFrame'>\n",
      "RangeIndex: 2784 entries, 0 to 2783\n",
      "Data columns (total 23 columns):\n",
      " #   Column   Non-Null Count  Dtype  \n",
      "---  ------   --------------  -----  \n",
      " 0   Player   2784 non-null   object \n",
      " 1   Nation   2781 non-null   object \n",
      " 2   Pos      2784 non-null   object \n",
      " 3   Squad    2784 non-null   object \n",
      " 4   Age      2781 non-null   float64\n",
      " 5   Born     2781 non-null   float64\n",
      " 6   90s      2784 non-null   float64\n",
      " 7   Tkl      2765 non-null   float64\n",
      " 8   TklW     2784 non-null   float64\n",
      " 9   Def_3rd  2765 non-null   float64\n",
      " 10  Mid_3rd  2765 non-null   float64\n",
      " 11  Att_3rd  2765 non-null   float64\n",
      " 12  Tkl.1    2765 non-null   float64\n",
      " 13  Att      2765 non-null   float64\n",
      " 14  Tkl%     2441 non-null   float64\n",
      " 15  Lost     2765 non-null   float64\n",
      " 16  Blocks   2765 non-null   float64\n",
      " 17  Sh       2765 non-null   float64\n",
      " 18  Pass     2765 non-null   float64\n",
      " 19  Int      2784 non-null   float64\n",
      " 20  Tkl+Int  2765 non-null   float64\n",
      " 21  Clr      2765 non-null   float64\n",
      " 22  Err      2765 non-null   float64\n",
      "dtypes: float64(19), object(4)\n",
      "memory usage: 500.4+ KB\n"
     ]
    }
   ],
   "source": [
    "df.info()"
   ]
  },
  {
   "cell_type": "code",
   "execution_count": 16,
   "id": "b9b38fb0",
   "metadata": {},
   "outputs": [],
   "source": [
    "df.to_csv(\"./Combined Data/Defenders_data_2023-24.csv\",index=False)"
   ]
  },
  {
   "cell_type": "markdown",
   "id": "d3f453ea",
   "metadata": {},
   "source": [
    "## GoalKeepers data"
   ]
  },
  {
   "cell_type": "code",
   "execution_count": 17,
   "id": "7d555147",
   "metadata": {},
   "outputs": [],
   "source": [
    "df1 = pd.read_csv('./Goalkeepers Data/PL_player_goalkeeper_data_2023-24.csv')\n",
    "df2 = pd.read_csv('./Goalkeepers Data/Ligue1_player_goalkeeper_data_2023-24.csv')\n",
    "df3 = pd.read_csv('./Goalkeepers Data/Bundesliga_player_goalkeeper_data_2023-24.csv')\n",
    "df4 = pd.read_csv('./Goalkeepers Data/SerieA_player_goalkeeper_data_2023-24.csv')\n",
    "df5 = pd.read_csv('./Goalkeepers Data/LaLiga_player_goalkeeper_data_2023-24.csv')"
   ]
  },
  {
   "cell_type": "code",
   "execution_count": 18,
   "id": "c0268ad9",
   "metadata": {},
   "outputs": [],
   "source": [
    "df = pd.concat([df1,df2,df3,df4,df5],ignore_index=True)"
   ]
  },
  {
   "cell_type": "code",
   "execution_count": 19,
   "id": "935fbba9",
   "metadata": {},
   "outputs": [],
   "source": [
    "df.to_csv(\"./Combined Data/Goalkeepers_data_2023-24.csv\",index=False)"
   ]
  }
 ],
 "metadata": {
  "kernelspec": {
   "display_name": "fdsenv",
   "language": "python",
   "name": "fdsenv"
  },
  "language_info": {
   "codemirror_mode": {
    "name": "ipython",
    "version": 3
   },
   "file_extension": ".py",
   "mimetype": "text/x-python",
   "name": "python",
   "nbconvert_exporter": "python",
   "pygments_lexer": "ipython3",
   "version": "3.10.9"
  }
 },
 "nbformat": 4,
 "nbformat_minor": 5
}
